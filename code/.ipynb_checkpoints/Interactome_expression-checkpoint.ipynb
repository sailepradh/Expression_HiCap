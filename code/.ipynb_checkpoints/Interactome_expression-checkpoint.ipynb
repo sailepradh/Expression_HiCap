{
 "cells": [
  {
   "cell_type": "markdown",
   "metadata": {},
   "source": [
    "Interactome expression landscape for all each cell-type\n",
    "===========\n",
    "***\n",
    "Here we are continuing the sanity test of interaction we found in both Promoter distal region and Promoter-promoter interaction we found. The main aim of this analysis:\n",
    "\n",
    "* Here we provide substantial evidence of expressed genes in interacting genes makes it more sense. \n",
    "* 2 figures each of qqplot of interacting genes and barplot of expressed genes as the function of all the expressed genes.\n",
    "* Make a Gene ontology enrichment analysis of these expressed interacting genes \n",
    "***"
   ]
  },
  {
   "cell_type": "markdown",
   "metadata": {},
   "source": [
    "### Background to analysis\n",
    "\n",
    "The approach is based chromatin interaction through genome looping induces the expression of relevant genes for biological processes. This has to somehow come up in our interaction genes that were found with the HiCap analysis. However, it has to benoted that we will not get all the expressed genes with genome looping. There will be certain genes that are trans regulated. \n",
    "\n",
    "### Data \n",
    "There are in general three types of data that we are looking into:\n",
    "* Expression data of all genes in FPKM in two replicates\n",
    "* P-D  interaction dataset\n",
    "* P-P interaction datast\n",
    " \n",
    " SO what to do og G-P and G-E dataset? At the moment lets filter these dataset and procced with only those clean version of dataset that can be used. The motive of filtering these dataset is to make the analysis more interpretable. For example if there is genes involved in formation of genomic loop then they should have high expression profile than background set of genes and possibly later we can extrapolate these G-P interaction based on these analysis.\n",
    " \n",
    "***"
   ]
  },
  {
   "cell_type": "markdown",
   "metadata": {
    "collapsed": true
   },
   "source": [
    "### Analysis \n",
    "\n",
    "Earlier I made a script based on this kind of analysis. Lets see I can make that script work or not\n",
    "```shell\n",
    " awk -F \"[\\t=;]\" '{print $10}' Design6.hg19.AllProbes.MboI.13.23.06_2017-08-17.gff3 |awk '{ if (NR >2) print $0}' | grep -v \"rs\"  | sort | uniq\n",
    "```\n",
    "\n",
    "\n",
    "for the thp1 data remove the unwanted LPS condition\n",
    "\"\n",
    "cut -f -18 THP1_nLPS_P_D_final.txt > THP1_nLPS_P_D_filfinal.txt \n",
    "\"\n",
    "***\n"
   ]
  },
  {
   "cell_type": "code",
   "execution_count": 2,
   "metadata": {},
   "outputs": [],
   "source": [
    "import hicap_exps\n",
    "\n",
    "\n"
   ]
  },
  {
   "cell_type": "code",
   "execution_count": 1,
   "metadata": {
    "collapsed": true
   },
   "outputs": [],
   "source": [
    "def exp_dict(file):\n",
    "    \"\"\"\n",
    "        The function take expression file and returns dictionary dataforma of the file\n",
    "        Since the expression values are given here in the last two columns, I have taken \n",
    "        \n",
    "        file = expression.txt \n",
    "    \n",
    "    \"\"\"\n",
    "    dict_exp = {}\n",
    "    with open (file, 'r') as exp_data:\n",
    "        next(exp_data)\n",
    "        \n",
    "        for lines in exp_data:\n",
    "            line = lines.strip().split(\"\\t\")\n",
    "            dict_fields = line[0]\n",
    "            fields = dict_exp.get(dict_fields,\"\")\n",
    "            fields = line[-2],line[-1]\n",
    "            dict_exp[dict_fields] = fields\n",
    "    return(dict_exp)\n",
    "\n",
    "\n",
    "def int_dict_pd(file):\n",
    "    \"\"\"\n",
    "        This function takes the interaction file of promoter distal interaction and returns dictionary of gene name as \n",
    "        the key and transcript_Id, distal chromosome position, as the list.\n",
    "        \n",
    "        file = interaction file from HiCap runs with RefSeqName as the gene_ID, TranscriptName as transcript_ID\n",
    "    \n",
    "    \"\"\"\n",
    "    results_interaction = {}\n",
    "    with open (file, 'r') as int_files:\n",
    "        next(int_files)\n",
    "        \n",
    "        for lines in int_files:\n",
    "            line = lines.strip()\n",
    "            fields = line.split(\"\\t\")\n",
    "            if fields[11] == \"-1\":\n",
    "                pass\n",
    "            else:\n",
    "                interaction_genes = fields[0]\n",
    "                interaction_status_genes = results_interaction.get(interaction_genes,[])\n",
    "                interaction_status_genes.append([fields[1], fields[8], fields[9], fields[10], fields[11]])\n",
    "                results_interaction[interaction_genes] = interaction_status_genes\n",
    "    return (results_interaction)\n",
    "\n",
    "\n",
    "def int_dict_pp(file):\n",
    "    \"\"\"\n",
    "        This function takes the interaction file of promoter promoter interaction and returns dictionary of gene name as \n",
    "        the key and transcript_Id, distal chromosome position, as the list.\n",
    "        \n",
    "        file = interaction file from HiCap runs with RefSeqName as the gene_ID, TranscriptName as transcript_ID\n",
    "    \n",
    "    \"\"\"\n",
    "    results_interact_PP = {}\n",
    "    with open (file, 'r') as int_files:\n",
    "        next(int_files)\n",
    "        \n",
    "        for lines in int_files:\n",
    "            line = lines.strip()\n",
    "            fields = line.split(\"\\t\")\n",
    "            interaction_genes = fields[0]\n",
    "            interaction_status_genes = results_interact_PP.get(interaction_genes,[])\n",
    "            interaction_status_genes.append([fields[1], fields[11], fields[12], fields[13], fields[16]])\n",
    "            results_interact_PP[interaction_genes] = interaction_status_genes\n",
    "    return (results_interact_PP)\n",
    "\n",
    "def file2array(file):\n",
    "    array =[]\n",
    "    with open (file,'r') as files:\n",
    "        for lines in files:\n",
    "            line = lines.strip()\n",
    "            array.append(line)\n",
    "    return(array)\n"
   ]
  },
  {
   "cell_type": "code",
   "execution_count": 2,
   "metadata": {
    "collapsed": true
   },
   "outputs": [],
   "source": [
    "def enhancer_RPKP(file):\n",
    "    \"\"\"\n",
    "        This function takes the interaction file of promoter distal interaction and returns dictionary of gene name as \n",
    "        the key and transcript_Id, distal chromosome position, as the list.\n",
    "        \n",
    "        file = interaction file from HiCap runs with RefSeqName as the gene_ID, TranscriptName as transcript_ID\n",
    "    \n",
    "    \"\"\"\n",
    "    results_interaction = {}\n",
    "    counts_rep1 =0\n",
    "    counts_rep2 =0\n",
    "    final_list ={}\n",
    "    with open (file, 'r') as int_files:\n",
    "        next(int_files)\n",
    "        \n",
    "        for lines in int_files:\n",
    "            line = lines.strip()\n",
    "            fields = line.split(\"\\t\")\n",
    "            if fields[11] == \"-1\":\n",
    "                pass\n",
    "            else:\n",
    "                interaction_genes = fields[0]\n",
    "                length = abs(int(fields[9])- int(fields[10]))\n",
    "                interaction_status_genes = results_interaction.get(interaction_genes,[])\n",
    "                interaction_status_genes.append( [fields[12], fields[15], length])\n",
    "                results_interaction[interaction_genes] = interaction_status_genes\n",
    "\n",
    "    for k in results_interaction.values():\n",
    "        for value in k:\n",
    "            counts_rep1 = int(counts_rep1) + int(value[0])\n",
    "            counts_rep2 = int(counts_rep2) + int(value[1])\n",
    "    \n",
    "    for k in results_interaction.keys():\n",
    "        Enh_rep1 = 0\n",
    "        Enh_rep2 = 0\n",
    "        tot_len_Enh = 0\n",
    "        for values in results_interaction[k]:\n",
    "            Enh_rep1 = int(values[0]) + Enh_rep1\n",
    "            Enh_rep2 = int (values[1]) + Enh_rep2\n",
    "            tot_len_Enh = int(values[2])+ tot_len_Enh\n",
    "        tot_len_Enh = tot_len_Enh/1000\n",
    "        Enh_rep1 = round(Enh_rep1/(counts_rep1/1000000),3)\n",
    "        Enh_rep2 = round(Enh_rep2/(counts_rep2/1000000),3)\n",
    "        #Enh_rep1 = round(Enh_rep1/((counts_rep1/1000000)*tot_len_Enh),3)\n",
    "        #Enh_rep2 = round(Enh_rep2/((counts_rep2/1000000)*tot_len_Enh),3)\n",
    "        final_list[k] = [Enh_rep1,Enh_rep2,tot_len_Enh]\n",
    "    return (final_list, counts_rep1, counts_rep2)"
   ]
  },
  {
   "cell_type": "markdown",
   "metadata": {},
   "source": [
    "***"
   ]
  },
  {
   "cell_type": "code",
   "execution_count": null,
   "metadata": {
    "collapsed": true
   },
   "outputs": [],
   "source": [
    "\"\"\"\n",
    "import os \n",
    "os.chdir (\"//Volumes/Work_drive/prj/Expression_Vs_Interaction/data/BAV/\")\n",
    "\n",
    "expressed_genes_BAV = exp_dict(\"gene_expression_filter_header.txt\")\n",
    "interaction_BAV_pd = int_dict_pd (\"BAVrun.hg19.Proximities.Probe_Distal.filtered.txt\")\n",
    "enhancer_BAV_RPKM = enhancer_RPKP(\"BAVrun.hg19.Proximities.Probe_Distal.filtered.txt\")\n",
    "\"\"\""
   ]
  },
  {
   "cell_type": "code",
   "execution_count": 4,
   "metadata": {
    "collapsed": true
   },
   "outputs": [],
   "source": [
    "\n",
    "import os \n",
    "os.chdir (\"/Volumes/Work_drive/prj/Expression_Vs_Interaction/data/THP1/\")\n",
    "\n",
    "expressed_genes_THP1 = exp_dict(\"gene_expression_THP1_nlps_filtered.txt\")\n",
    "Genes_probes = file2array(\"Genes_probes_THP1.txt\")\n",
    "#interaction_THP1_pd = int_dict_pd (\"THP1run.hg19.nLPS.Proximities.Probe_Distal.filtered.txt\")\n",
    "interaction_THP1_pd = int_dict_pd (\"/Volumes/Work_drive/prj/final_interaction_table/THP1_nLPS_P_D_filfinal.txt\")\n",
    "interaction_THP1_pp = int_dict_pp(\"THP1run.hg19.nLPS.Proximities.Probe_Probe.SMCscaled.filtered.txt\")\n",
    "#enhancer_THP1_RPKM = enhancer_RPKP(\"THP1run.hg19.nLPS.Proximities.Probe_Distal.filtered.txt\")\n",
    "enhancer_THP1_RPKM, TCRep1,TCRep2 = enhancer_RPKP(\"/Volumes/Work_drive/prj/final_interaction_table/THP1_nLPS_P_D_filfinal.txt\")\n"
   ]
  },
  {
   "cell_type": "code",
   "execution_count": 5,
   "metadata": {},
   "outputs": [
    {
     "name": "stdout",
     "output_type": "stream",
     "text": [
      "497722 458880\n"
     ]
    }
   ],
   "source": [
    "print(TCRep1,TCRep2)"
   ]
  },
  {
   "cell_type": "code",
   "execution_count": 3,
   "metadata": {
    "collapsed": true
   },
   "outputs": [],
   "source": [
    "\"\"\"\n",
    "import os \n",
    "os.chdir (\"/Volumes/Work_drive/prj/Expression_Vs_Interaction/data/TAV/\")\n",
    "\n",
    "expressed_genes_TAV = exp_dict(\"gene_expression_filtered_TAV.txt\")\n",
    "Genes_probes = file2array(\"Genes_probes_TAV.txt\")\n",
    "#interaction_TAV_pd = int_dict_pd (\"TAVrun.hg19.Proximities.Probe_Distal.filtered.txt\")\n",
    "interaction_TAV_pd = int_dict_pd (\"/Volumes/Work_drive/prj/final_interaction_table/TAV_hg19_P_D_final.txt\")\n",
    "interaction_TAV_pd = int_dict_pd (\"TAVrun.hg19.Proximities.Probe_Distal.filtered.txt\")\n",
    "interaction_TAV_pp = int_dict_pp(\"TAVrun.hg19.Proximities.Probe_Probe.SMCscaled.filtered.txt\")\n",
    "#enhancer_TAV_RPKM = enhancer_RPKP(\"TAVrun.hg19.Proximities.Probe_Distal.filtered.txt\")\n",
    "enhancer_TAV_RPKM, TCRep1,TCRep2 = enhancer_RPKP(\"/Volumes/Work_drive/prj/final_interaction_table/TAV_hg19_P_D_final.txt\")\n",
    "\n",
    "\"\"\""
   ]
  },
  {
   "cell_type": "code",
   "execution_count": 4,
   "metadata": {},
   "outputs": [
    {
     "name": "stdout",
     "output_type": "stream",
     "text": [
      "1144866 911035\n"
     ]
    }
   ],
   "source": [
    "print(TCRep1,TCRep2)"
   ]
  },
  {
   "cell_type": "code",
   "execution_count": 15,
   "metadata": {
    "collapsed": true
   },
   "outputs": [],
   "source": [
    "\"\"\"\n",
    "import os \n",
    "os.chdir (\"/Volumes/Work_drive/prj/Expression_Vs_Interaction/data/SMC/\")\n",
    "\n",
    "expressed_genes_VSMC = exp_dict(\"gene_expression_VSMC_filtered.txt\")\n",
    "Genes_probes = file2array(\"Genes_probes_SMC.txt\")\n",
    "#interaction_VSMC_pd = int_dict_pd (\"HASMC.hg19.Proximities.Probe_Distal.filtered.txt\")\n",
    "interaction_VSMC_pd = int_dict_pd (\"/Volumes/Work_drive/prj/final_interaction_table/HASMC_hg19_P_D_final.txt\")\n",
    "interaction_VSMC_pp = int_dict_pp(\"SMC.hg19.Proximities.Probe_Probe.filtered.txt\")\n",
    "#enhancer_VSMC_RPKM = enhancer_RPKP(\"HASMC.hg19.Proximities.Probe_Distal.filtered.txt\")\n",
    "enhancer_VSMC_RPKM, TCRep1,TCRep2 = enhancer_RPKP(\"/Volumes/Work_drive/prj/final_interaction_table/HASMC_hg19_P_D_final.txt\")\n",
    "\"\"\""
   ]
  },
  {
   "cell_type": "code",
   "execution_count": 16,
   "metadata": {},
   "outputs": [
    {
     "name": "stdout",
     "output_type": "stream",
     "text": [
      "483416 725378\n"
     ]
    }
   ],
   "source": [
    "print(TCRep1,TCRep2)"
   ]
  },
  {
   "cell_type": "markdown",
   "metadata": {},
   "source": [
    "***"
   ]
  },
  {
   "cell_type": "code",
   "execution_count": 6,
   "metadata": {
    "collapsed": true
   },
   "outputs": [],
   "source": [
    "fh = open(\"Int_Exp_Genes_probes.txt\", \"w\") \n",
    "for keys, values in expressed_genes_VSMC.items():\n",
    "    if keys in Genes_probes:\n",
    "        fh.write(keys+\"\\t\"+\"\\t\".join(values))\n",
    "        fh.write (\"\\n\")\n",
    "fh.close()                 "
   ]
  },
  {
   "cell_type": "code",
   "execution_count": 7,
   "metadata": {
    "collapsed": true
   },
   "outputs": [],
   "source": [
    "fh = open(\"No_Int_Exp_Genes_probes.txt\", \"w\") \n",
    "for keys, values in expressed_genes_VSMC.items():\n",
    "    if keys not in Genes_probes:\n",
    "        #print (keys+\"\\t\"+\"\\t\".join(values))\n",
    "        fh.write(keys+\"\\t\"+\"\\t\".join(values))\n",
    "        fh.write (\"\\n\")\n",
    "fh.close()  "
   ]
  },
  {
   "cell_type": "code",
   "execution_count": 6,
   "metadata": {
    "collapsed": true
   },
   "outputs": [],
   "source": [
    "\"\"\"\n",
    "    This is just a command to get the interaction status in each gene. Just run once in order to get the interaction \n",
    "    list.\n",
    "\n",
    "import sys\n",
    "sys.stdout = open('Gene_int_THP1_count_PD.txt', 'w')\n",
    "\n",
    "for keys, values in interaction_THP1_pd.items():\n",
    "    print (keys+\"\\t\"+str(len(values)))\n",
    "    \n",
    "import sys\n",
    "sys.stdout = open('Gene_int_VSMC_count_PD.txt', 'w')\n",
    "\n",
    "for keys, values in interaction_VSMC_pd.items():\n",
    "    print (keys+\"\\t\"+str(len(values)))\n",
    "    \n",
    "import sys\n",
    "sys.stdout = open('Gene_int_TAV_count_PD.txt', 'w')\n",
    "\n",
    "for keys, values in interaction_TAV_pd.items():\n",
    "    print (keys+\"\\t\"+str(len(values)))\n",
    "\n",
    "\n",
    "import sys\n",
    "sys.stdout = open('Gene_int_BAV_count_PD.txt', 'w')\n",
    "\n",
    "for keys, values in interaction_BAV_pd.items():\n",
    "    print (keys+\"\\t\"+str(len(values)))\n",
    "    \n",
    "\"\"\"\n",
    "\n",
    "fh = open(\"Gene_int_THP1_count_PD_2.txt\", \"w\") \n",
    "for keys, values in interaction_THP1_pd.items():\n",
    "    if keys in enhancer_THP1_RPKM.keys():\n",
    "        fh.write(keys+\"\\t\"+str(len(values))+\"\\t\"+\"\\t\".join([str(i) for i in  enhancer_THP1_RPKM[keys]]))\n",
    "    fh.write (\"\\n\")\n",
    "fh.close()  \n"
   ]
  },
  {
   "cell_type": "markdown",
   "metadata": {},
   "source": [
    "***"
   ]
  },
  {
   "cell_type": "code",
   "execution_count": null,
   "metadata": {
    "collapsed": true
   },
   "outputs": [],
   "source": [
    "\"\"\"\n",
    "    Thia is just a command to get the interaction status in each gene. Just run once in order to get the interaction \n",
    "    list.\n",
    "\n",
    "import sys\n",
    "sys.stdout = open('Gene_int_THP1_count_PP.txt', 'w')\n",
    "\n",
    "for keys, values in interaction_THP1_pp.items():\n",
    "    print (keys+\"\\t\"+str(len(values)))\n",
    "\n",
    "\n",
    "import sys\n",
    "sys.stdout = open('Gene_int_VSMC_count_PP.txt', 'w')\n",
    "\n",
    "for keys, values in interaction_VSMC_pp.items():\n",
    "    print (keys+\"\\t\"+str(len(values)))\n",
    "\"\"\"\n",
    "\n",
    "\n",
    "fh = open(\"Gene_int_VSMC_count_PP.txt\", \"w\") \n",
    "for keys, values in interaction_VSMC_pp.items():\n",
    "    fh.write(keys+\"\\t\"+str(len(values)))\n",
    "    fh.write (\"\\n\")\n",
    "fh.close()  "
   ]
  },
  {
   "cell_type": "code",
   "execution_count": 9,
   "metadata": {
    "collapsed": true
   },
   "outputs": [],
   "source": [
    "\"\"\"\n",
    "    This is just a command to get the interaction status in each gene. Just run once in order to get the interaction \n",
    "    list.\n",
    "\"\"\"\n",
    "\n",
    "fh = open(\"VSMC_Probe_Distal.filtered_expression.txt\", \"w\")\n",
    "\n",
    "with open (\"/Volumes/Work_drive/prj/final_interaction_table/HASMC_hg19_P_D_final.txt\", 'r') as Int:\n",
    "    for lines in Int:\n",
    "        \n",
    "        if lines.startswith('RefSeqName'):\n",
    "            line = lines.strip().split(\"\\t\")\n",
    "            line.append ('Exp_rep1_FPKMS')\n",
    "            line.append ('Exp_rep2_FPKMS')\n",
    "            line.append ('Int_rep1_RPKM_interation')\n",
    "            line.append ('Int_rep1_RPKM_interation')\n",
    "            line.append ('Total_enhancers_length')\n",
    "            myorder = [0,1,2,3,4,5,6,7,8,9,10,11,12,13,14,15,16,17,18,19,20,21,22] \n",
    "            line = [str(line[i]) for i in myorder]\n",
    "            fh.write(\"\\t\".join(line))\n",
    "            fh.write (\"\\n\")\n",
    "            continue\n",
    "            \n",
    "        else:\n",
    "            line = lines.strip().split(\"\\t\")\n",
    "            \n",
    "            if line[11] == \"-1\":\n",
    "                pass\n",
    "            else:\n",
    "                if line[0] in expressed_genes_VSMC.keys() and line [0] in enhancer_VSMC_RPKM.keys():\n",
    "                    exp_fields = expressed_genes_VSMC[line[0]]\n",
    "                    FPKM_interaction = enhancer_VSMC_RPKM[line[0]]\n",
    "                    for i in exp_fields:\n",
    "                        line.append(i)\n",
    "                    for j in FPKM_interaction:\n",
    "                        line.append(j)\n",
    "                    myorder = [0,1,2,3,4,5,6,7,8,9,10,11,12,13,14,15,16,17,18,19,20,21,22]  \n",
    "                    line = [str(line[i]) for i in myorder]\n",
    "                    fh.write(\"\\t\".join(line))\n",
    "                    fh.write (\"\\n\")\n",
    "\n",
    "                else:\n",
    "                #FPKM_interaction = enhancer_THP1_RPKM[line[0]]\n",
    "                    line.append ('-1')\n",
    "                    line.append ('-1')\n",
    "                    for j in FPKM_interaction:\n",
    "                        line.append(j)\n",
    "                    myorder = [0,1,2,3,4,5,6,7,8,9,10,11,12,13,14,15,16,17,18,19,20,21,22] \n",
    "                    line = [str(line[i]) for i in myorder]\n",
    "                    fh.write(\"\\t\".join(line))\n",
    "                    fh.write (\"\\n\")\n",
    "fh.close()                 "
   ]
  },
  {
   "cell_type": "markdown",
   "metadata": {},
   "source": [
    "***"
   ]
  },
  {
   "cell_type": "code",
   "execution_count": null,
   "metadata": {
    "collapsed": true
   },
   "outputs": [],
   "source": [
    "\"\"\"\n",
    "    This is just a command to get the interaction status in each gene. Just run once in order to get the interaction \n",
    "    list. Not run yet ...\n",
    "\"\"\"\n",
    "sys.stdout = open('TAV_Probe_Probe.filtered_expression.txt', 'w')\n",
    "\n",
    "with open (\"TAVrun.hg19.Proximities.Probe_Probe.SMCscaled.filtered.txt\", 'r') as Int:\n",
    "    for lines in Int:\n",
    "        \n",
    "        if lines.startswith('RefSeqName'):\n",
    "            line = lines.strip().split(\"\\t\")\n",
    "            line.append ('TAV_rep1_FPKMS')\n",
    "            line.append ('TAV_rep2_FPKMS')\n",
    "            myorder = [0,1,2,3,4,5,6,7,8,9,10,11,12,13,14,15,16,17,18,19,20,21,22,23,24] \n",
    "            line = [line[i] for i in myorder]\n",
    "            print (\"\\t\".join(line))\n",
    "            continue\n",
    "            \n",
    "        else:\n",
    "            line = lines.strip().split(\"\\t\")\n",
    "            if line[0] in expressed_genes_VSMC.keys():\n",
    "                exp_fields = expressed_genes_VSMC[line[0]]\n",
    "                for i in exp_fields:\n",
    "                    line.append(i)\n",
    "                myorder = myorder = [0,1,2,3,4,5,6,7,8,9,10,11,12,13,14,15,16,17,18,19,20,21,22,23,24] \n",
    "                line = [line[i] for i in myorder]\n",
    "                print (\"\\t\".join(line))\n",
    "            else:\n",
    "                line.append ('-1')\n",
    "                line.append ('-1')\n",
    "                line.append ('-1')\n",
    "                myorder = myorder = [0,1,2,3,4,5,6,7,8,9,10,11,12,13,14,15,16,17,18,19,20,21,22,23,24]  \n",
    "                line = [line[i] for i in myorder]\n",
    "                print (\"\\t\".join(line))"
   ]
  },
  {
   "cell_type": "code",
   "execution_count": null,
   "metadata": {
    "collapsed": true
   },
   "outputs": [],
   "source": [
    "%%bash\n",
    "\n",
    "(head -n 1 TAV_Probe_Distal.filtered_expression.txt && tail -n +2 TAV_Probe_Distal.filtered_expression.txt |sort -k 1n) > sorted_TAV_Probe_Distal_filtered_expression.txt\n"
   ]
  },
  {
   "cell_type": "code",
   "execution_count": null,
   "metadata": {
    "collapsed": true
   },
   "outputs": [],
   "source": [
    "%%bash\n",
    "\n",
    "(head -n 1 TAV_Probe_Probe.filtered_expression.txt && tail -n +2 TAV_Probe_Probe.filtered_expression.txt |sort -k 1n) > sorted_TAV_Probe_probe_filtered_expression.txt"
   ]
  }
 ],
 "metadata": {
  "kernelspec": {
   "display_name": "Python 3",
   "language": "python",
   "name": "python3"
  },
  "language_info": {
   "codemirror_mode": {
    "name": "ipython",
    "version": 3
   },
   "file_extension": ".py",
   "mimetype": "text/x-python",
   "name": "python",
   "nbconvert_exporter": "python",
   "pygments_lexer": "ipython3",
   "version": "3.6.1"
  }
 },
 "nbformat": 4,
 "nbformat_minor": 2
}
